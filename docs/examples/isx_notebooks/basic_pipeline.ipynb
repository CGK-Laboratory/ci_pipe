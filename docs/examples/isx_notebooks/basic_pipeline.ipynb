{
 "cells": [
  {
   "cell_type": "code",
   "execution_count": null,
   "id": "47410186",
   "metadata": {},
   "outputs": [],
   "source": [
    "import isx\n",
    "from ci_pipe.pipeline import CIPipe\n",
    "from ci_pipe.trace_builder import TraceBuilder"
   ]
  },
  {
   "cell_type": "code",
   "execution_count": null,
   "id": "c21c821d",
   "metadata": {},
   "outputs": [],
   "source": [
    "trace_builder = TraceBuilder(file_name=\"trace.json\") # Replace with your desired trace file name\n",
    "pipeline = CIPipe.with_videos_from_directory('input_dir', outputs_directory='output_dir', trace_builder=trace_builder, isx=isx) # Replace 'input_dir' and 'output_dir' with your actual directories"
   ]
  },
  {
   "metadata": {},
   "cell_type": "code",
   "outputs": [],
   "execution_count": null,
   "source": [
    "(\n",
    "    pipeline\n",
    "    .set_defaults(isx_bp_subtract_global_minimum=False, isx_mc_max_translation=25, isx_acr_filters=[('SNR', '>', 3), ('Event Rate', '>', 0), ('# Comps', '=', 1)])\n",
    "    .isx.preprocess_videos()\n",
    "    .isx.bandpass_filter_videos()\n",
    "    .isx.motion_correction_videos(isx_mc_series_name=\"series1\")\n",
    "    .isx.normalize_dff_videos()\n",
    "    .isx.extract_neurons_pca_ica()\n",
    "    .isx.detect_events_in_cells()\n",
    "    .isx.auto_accept_reject_cells()\n",
    ")"
   ],
   "id": "fce17d73e25caa44"
  }
 ],
 "metadata": {
  "kernelspec": {
   "display_name": "isxenv",
   "language": "python",
   "name": "python3"
  },
  "language_info": {
   "codemirror_mode": {
    "name": "ipython",
    "version": 3
   },
   "file_extension": ".py",
   "mimetype": "text/x-python",
   "name": "python",
   "nbconvert_exporter": "python",
   "pygments_lexer": "ipython3",
   "version": "3.10.18"
  }
 },
 "nbformat": 4,
 "nbformat_minor": 5
}
