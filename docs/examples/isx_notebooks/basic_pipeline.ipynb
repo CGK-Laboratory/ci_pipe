{
 "cells": [
  {
   "cell_type": "code",
   "id": "47410186",
   "metadata": {},
   "source": [
    "import isx\n",
    "from src.ci_pipe import CIPipe"
   ],
   "outputs": [],
   "execution_count": null
  },
  {
   "metadata": {},
   "cell_type": "code",
   "source": [
    "import os\n",
    "upper_root = os.path.abspath(os.path.join(os.getcwd(), '../../..'))\n",
    "requirements_path = os.path.join(upper_root, \"requirements.txt\")\n",
    "!pip install -r $requirements_path"
   ],
   "id": "3ac74bf8a3cc0700",
   "outputs": [],
   "execution_count": null
  },
  {
   "metadata": {},
   "cell_type": "markdown",
   "source": "## Pipeline minimal creation",
   "id": "8fc0c325be541720"
  },
  {
   "metadata": {},
   "cell_type": "code",
   "source": [
    "from src.ci_pipe.plotter import Plotter\n",
    "import io\n",
    "from rich.console import Console\n",
    "\n",
    "plotter = Plotter(console=Console(file=io.StringIO(), force_terminal=True))"
   ],
   "id": "6004eede40713bca",
   "outputs": [],
   "execution_count": null
  },
  {
   "metadata": {},
   "cell_type": "markdown",
   "source": "Replace 'input_dir' and 'output_dir' with your actual directories\n",
   "id": "ae28047712e1816c"
  },
  {
   "cell_type": "code",
   "id": "c21c821d",
   "metadata": {},
   "source": "pipeline = CIPipe.with_videos_from_directory('input_dir', outputs_directory='output_dir', isx=isx, plotter=plotter)",
   "outputs": [],
   "execution_count": null
  },
  {
   "metadata": {},
   "cell_type": "markdown",
   "source": "### Full pipeline execution with ISX algorithms",
   "id": "68dcb075cf05168f"
  },
  {
   "metadata": {},
   "cell_type": "code",
   "source": [
    "(\n",
    "    pipeline\n",
    "    .set_defaults(isx_bp_subtract_global_minimum=False, isx_mc_max_translation=25, isx_acr_filters=[('SNR', '>', 3), ('Event Rate', '>', 0), ('# Comps', '=', 1)])\n",
    "    .isx.preprocess_videos()\n",
    "    .isx.bandpass_filter_videos()\n",
    "    .isx.motion_correction_videos(isx_mc_series_name=\"series1\")\n",
    "    .isx.normalize_dff_videos()\n",
    "    .isx.extract_neurons_pca_ica()\n",
    "    .isx.detect_events_in_cells()\n",
    "    .isx.auto_accept_reject_cells()\n",
    ")"
   ],
   "id": "58358c3d9d391279",
   "outputs": [],
   "execution_count": null
  },
  {
   "metadata": {},
   "cell_type": "code",
   "source": "pipeline.info(1)",
   "id": "3ca5ec6168ee1548",
   "outputs": [],
   "execution_count": null
  },
  {
   "metadata": {},
   "cell_type": "code",
   "source": "pipeline.trace()",
   "id": "3ec95322e827ab0c",
   "outputs": [],
   "execution_count": null
  }
 ],
 "metadata": {
  "kernelspec": {
   "display_name": "isxenv",
   "language": "python",
   "name": "python3"
  },
  "language_info": {
   "codemirror_mode": {
    "name": "ipython",
    "version": 3
   },
   "file_extension": ".py",
   "mimetype": "text/x-python",
   "name": "python",
   "nbconvert_exporter": "python",
   "pygments_lexer": "ipython3",
   "version": "3.10.18"
  }
 },
 "nbformat": 4,
 "nbformat_minor": 5
}
