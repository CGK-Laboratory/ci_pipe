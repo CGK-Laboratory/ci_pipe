{
 "cells": [
  {
   "cell_type": "code",
   "execution_count": 4,
   "id": "47410186",
   "metadata": {},
   "outputs": [],
   "source": [
    "import isx\n",
    "from ci_pipe.pipeline import CIPipe\n",
    "from ci_pipe.trace_builder import TraceBuilder"
   ]
  },
  {
   "cell_type": "code",
   "execution_count": 5,
   "id": "c21c821d",
   "metadata": {},
   "outputs": [],
   "source": [
    "trace_builder = TraceBuilder(file_name=\"trace.json\") # Replace with your desired trace file name\n",
    "pipeline = CIPipe.with_videos_from_directory('input_dir', outputs_directory='output_dir', trace_builder=trace_builder, isx=isx) # Replace 'input_dir' and 'output_dir' with your actual directories"
   ]
  },
  {
   "cell_type": "code",
   "execution_count": null,
   "id": "88061220",
   "metadata": {},
   "outputs": [
    {
     "name": "stdout",
     "output_type": "stream",
     "text": [
      "Bandpass filtering output_dir\\Main Branch - Step 1 - ISX Preprocess Videos\\simulation1-PP.isxd to output_dir\\Main Branch - Step 2 - ISX Bandpass Filter Videos\\simulation1-PP-BP.isxd, using low cutoff 0.007, high cutoff 0.6, retain mean False, subtract global minimum False\n",
      "Bandpass filtering output_dir\\Main Branch - Step 1 - ISX Preprocess Videos\\simulation2-PP.isxd to output_dir\\Main Branch - Step 2 - ISX Bandpass Filter Videos\\simulation2-PP-BP.isxd, using low cutoff 0.007, high cutoff 0.6, retain mean False, subtract global minimum False\n"
     ]
    },
    {
     "data": {
      "text/plain": [
       "<ci_pipe.pipeline.CIPipe at 0x236828b01c0>"
      ]
     },
     "execution_count": 6,
     "metadata": {},
     "output_type": "execute_result"
    }
   ],
   "source": [
    "(\n",
    "    pipeline\n",
    "    .isx.preprocess_videos()\n",
    "    .isx.bandpass_filter_videos()\n",
    ")"
   ]
  }
 ],
 "metadata": {
  "kernelspec": {
   "display_name": "isxenv",
   "language": "python",
   "name": "python3"
  },
  "language_info": {
   "codemirror_mode": {
    "name": "ipython",
    "version": 3
   },
   "file_extension": ".py",
   "mimetype": "text/x-python",
   "name": "python",
   "nbconvert_exporter": "python",
   "pygments_lexer": "ipython3",
   "version": "3.10.18"
  }
 },
 "nbformat": 4,
 "nbformat_minor": 5
}
